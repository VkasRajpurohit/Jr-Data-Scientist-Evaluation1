{
 "cells": [
  {
   "cell_type": "markdown",
   "id": "9a75f03c",
   "metadata": {},
   "source": [
    "# $Part1 -- Que3$.\n",
    "\n",
    "\n",
    "### Ranking Data - Understanding the co-relation between keyword rankings with description or any other attribute. Here’s the [dataset](https://drive.google.com/file/d/1yuDyU7EjJ8Nai83FDdIF2w4inm17NzBF/view). \n",
    "\n",
    "### $Suggested Questions:$\n",
    "1. Is there any co-relation between short description, long description and ranking? Does the placement of keyword (for example using a keyword in the first 10 words - have any co-relation with the ranking)?\n",
    "2. Does APP ID (Also known as package name) play any role in ranking?  \n",
    "3. Any other pattern or good questions that you can think of and answer?"
   ]
  },
  {
   "cell_type": "markdown",
   "id": "8bdecdc0",
   "metadata": {},
   "source": [
    "## $Import Required Libraries :$"
   ]
  },
  {
   "cell_type": "code",
   "execution_count": 1,
   "id": "9e4f4aa9",
   "metadata": {},
   "outputs": [],
   "source": [
    "import numpy as np\n",
    "import pandas as pd\n",
    "from sklearn.impute import KNNImputer\n",
    "\n",
    "# Self written module\n",
    "from preprocessor import DataPreprocessing\n",
    "from preprocessor import DisplayCorrelation"
   ]
  },
  {
   "cell_type": "markdown",
   "id": "dca91092",
   "metadata": {},
   "source": [
    "## $Load Data :$"
   ]
  },
  {
   "cell_type": "code",
   "execution_count": 2,
   "id": "731b55e4",
   "metadata": {},
   "outputs": [
    {
     "data": {
      "text/html": [
       "<div>\n",
       "<style scoped>\n",
       "    .dataframe tbody tr th:only-of-type {\n",
       "        vertical-align: middle;\n",
       "    }\n",
       "\n",
       "    .dataframe tbody tr th {\n",
       "        vertical-align: top;\n",
       "    }\n",
       "\n",
       "    .dataframe thead th {\n",
       "        text-align: right;\n",
       "    }\n",
       "</style>\n",
       "<table border=\"1\" class=\"dataframe\">\n",
       "  <thead>\n",
       "    <tr style=\"text-align: right;\">\n",
       "      <th></th>\n",
       "      <th>ID</th>\n",
       "      <th>Keyword</th>\n",
       "      <th>Rank</th>\n",
       "      <th>Country</th>\n",
       "      <th>Language</th>\n",
       "      <th>Date</th>\n",
       "      <th>App ID</th>\n",
       "      <th>Date of Last Description Change</th>\n",
       "      <th>Short Description</th>\n",
       "      <th>Long Description</th>\n",
       "    </tr>\n",
       "  </thead>\n",
       "  <tbody>\n",
       "    <tr>\n",
       "      <th>0</th>\n",
       "      <td>1</td>\n",
       "      <td>browser</td>\n",
       "      <td>2.0</td>\n",
       "      <td>in</td>\n",
       "      <td>en</td>\n",
       "      <td>2020-12-16</td>\n",
       "      <td>net.fast.web.browser</td>\n",
       "      <td>2020-12-18</td>\n",
       "      <td>The small, fastest, secure Web Browser, best m...</td>\n",
       "      <td>One of the smallest, fastest, secure Web Brows...</td>\n",
       "    </tr>\n",
       "    <tr>\n",
       "      <th>1</th>\n",
       "      <td>2</td>\n",
       "      <td>browser</td>\n",
       "      <td>3.0</td>\n",
       "      <td>in</td>\n",
       "      <td>en</td>\n",
       "      <td>2020-12-16</td>\n",
       "      <td>com.android.chrome</td>\n",
       "      <td>2020-12-18</td>\n",
       "      <td>Fast, simple, and secure. Google Chrome browse...</td>\n",
       "      <td>Google Chrome is a fast, easy to use, and secu...</td>\n",
       "    </tr>\n",
       "    <tr>\n",
       "      <th>2</th>\n",
       "      <td>3</td>\n",
       "      <td>browser</td>\n",
       "      <td>4.0</td>\n",
       "      <td>in</td>\n",
       "      <td>en</td>\n",
       "      <td>2020-12-16</td>\n",
       "      <td>com.opera.browser</td>\n",
       "      <td>2021-02-27</td>\n",
       "      <td>Fast, safe web browser: free VPN, Ad blocker, ...</td>\n",
       "      <td>Fast, safe and private, introducing the latest...</td>\n",
       "    </tr>\n",
       "    <tr>\n",
       "      <th>3</th>\n",
       "      <td>3</td>\n",
       "      <td>browser</td>\n",
       "      <td>4.0</td>\n",
       "      <td>in</td>\n",
       "      <td>en</td>\n",
       "      <td>2020-12-16</td>\n",
       "      <td>com.opera.browser</td>\n",
       "      <td>2020-12-18</td>\n",
       "      <td>Fast, safe web browser: free VPN, Ad blocker, ...</td>\n",
       "      <td>Opera is a fast, safe web browser for your And...</td>\n",
       "    </tr>\n",
       "    <tr>\n",
       "      <th>4</th>\n",
       "      <td>4</td>\n",
       "      <td>browser</td>\n",
       "      <td>1.0</td>\n",
       "      <td>in</td>\n",
       "      <td>en</td>\n",
       "      <td>2020-12-16</td>\n",
       "      <td>com.cloudmosa.puffinTV</td>\n",
       "      <td>2021-02-07</td>\n",
       "      <td>Puffin TV Browser - One App to Watch All Video...</td>\n",
       "      <td>Puffin TV Browser is a special edition of Puff...</td>\n",
       "    </tr>\n",
       "  </tbody>\n",
       "</table>\n",
       "</div>"
      ],
      "text/plain": [
       "   ID  Keyword  Rank Country Language        Date                  App ID  \\\n",
       "0   1  browser   2.0      in       en  2020-12-16    net.fast.web.browser   \n",
       "1   2  browser   3.0      in       en  2020-12-16      com.android.chrome   \n",
       "2   3  browser   4.0      in       en  2020-12-16       com.opera.browser   \n",
       "3   3  browser   4.0      in       en  2020-12-16       com.opera.browser   \n",
       "4   4  browser   1.0      in       en  2020-12-16  com.cloudmosa.puffinTV   \n",
       "\n",
       "  Date of Last Description Change  \\\n",
       "0                      2020-12-18   \n",
       "1                      2020-12-18   \n",
       "2                      2021-02-27   \n",
       "3                      2020-12-18   \n",
       "4                      2021-02-07   \n",
       "\n",
       "                                   Short Description  \\\n",
       "0  The small, fastest, secure Web Browser, best m...   \n",
       "1  Fast, simple, and secure. Google Chrome browse...   \n",
       "2  Fast, safe web browser: free VPN, Ad blocker, ...   \n",
       "3  Fast, safe web browser: free VPN, Ad blocker, ...   \n",
       "4  Puffin TV Browser - One App to Watch All Video...   \n",
       "\n",
       "                                    Long Description  \n",
       "0  One of the smallest, fastest, secure Web Brows...  \n",
       "1  Google Chrome is a fast, easy to use, and secu...  \n",
       "2  Fast, safe and private, introducing the latest...  \n",
       "3  Opera is a fast, safe web browser for your And...  \n",
       "4  Puffin TV Browser is a special edition of Puff...  "
      ]
     },
     "execution_count": 2,
     "metadata": {},
     "output_type": "execute_result"
    }
   ],
   "source": [
    "df = pd.read_csv('data/browser_rankings_data.csv', skiprows=1)\n",
    "df.head()"
   ]
  },
  {
   "cell_type": "markdown",
   "id": "7d6eb5eb",
   "metadata": {},
   "source": [
    "## $Data Preprocessing:$"
   ]
  },
  {
   "cell_type": "code",
   "execution_count": 3,
   "id": "e39ee524",
   "metadata": {},
   "outputs": [],
   "source": [
    "# from preprocessor import DataPreprocessing\n",
    "DataPreprocessing = DataPreprocessing()  # initialize "
   ]
  },
  {
   "cell_type": "code",
   "execution_count": 4,
   "id": "b2992976",
   "metadata": {},
   "outputs": [
    {
     "name": "stdout",
     "output_type": "stream",
     "text": [
      "Shape of the dataset:  (3066, 10)\n",
      "\n",
      "Columns present: Index(['ID', 'Keyword', 'Rank', 'Country', 'Language', 'Date', 'App ID',\n",
      "       'Date of Last Description Change', 'Short Description',\n",
      "       'Long Description'],\n",
      "      dtype='object') \n",
      "\n",
      "<class 'pandas.core.frame.DataFrame'>\n",
      "RangeIndex: 3066 entries, 0 to 3065\n",
      "Data columns (total 10 columns):\n",
      " #   Column                           Non-Null Count  Dtype  \n",
      "---  ------                           --------------  -----  \n",
      " 0   ID                               3066 non-null   int64  \n",
      " 1   Keyword                          3066 non-null   object \n",
      " 2   Rank                             3050 non-null   float64\n",
      " 3   Country                          3066 non-null   object \n",
      " 4   Language                         3066 non-null   object \n",
      " 5   Date                             3066 non-null   object \n",
      " 6   App ID                           3066 non-null   object \n",
      " 7   Date of Last Description Change  3066 non-null   object \n",
      " 8   Short Description                3066 non-null   object \n",
      " 9   Long Description                 3066 non-null   object \n",
      "dtypes: float64(1), int64(1), object(8)\n",
      "memory usage: 239.7+ KB\n"
     ]
    }
   ],
   "source": [
    "DataPreprocessing.basic_info(df)"
   ]
  },
  {
   "cell_type": "markdown",
   "id": "f5f79440",
   "metadata": {},
   "source": [
    "- It seems **$Column - Rank$** have missing values.\n",
    "- **$Columns - Date$ & $Date of Last Description Change$** are showing as object, however these are date-time."
   ]
  },
  {
   "cell_type": "code",
   "execution_count": 5,
   "id": "ddc6c8ff",
   "metadata": {},
   "outputs": [
    {
     "name": "stdout",
     "output_type": "stream",
     "text": [
      "<class 'pandas.core.frame.DataFrame'>\n",
      "RangeIndex: 3066 entries, 0 to 3065\n",
      "Data columns (total 10 columns):\n",
      " #   Column                           Non-Null Count  Dtype         \n",
      "---  ------                           --------------  -----         \n",
      " 0   ID                               3066 non-null   int64         \n",
      " 1   Keyword                          3066 non-null   object        \n",
      " 2   Rank                             3050 non-null   float64       \n",
      " 3   Country                          3066 non-null   object        \n",
      " 4   Language                         3066 non-null   object        \n",
      " 5   Date                             3066 non-null   datetime64[ns]\n",
      " 6   App ID                           3066 non-null   object        \n",
      " 7   Date of Last Description Change  3066 non-null   datetime64[ns]\n",
      " 8   Short Description                3066 non-null   object        \n",
      " 9   Long Description                 3066 non-null   object        \n",
      "dtypes: datetime64[ns](2), float64(1), int64(1), object(6)\n",
      "memory usage: 239.7+ KB\n"
     ]
    }
   ],
   "source": [
    "# convert date-time\n",
    "df = DataPreprocessing.convert_date_time(df)\n",
    "df.info()"
   ]
  },
  {
   "cell_type": "code",
   "execution_count": 6,
   "id": "be92d19d",
   "metadata": {},
   "outputs": [
    {
     "name": "stdout",
     "output_type": "stream",
     "text": [
      "                           columns  missing values count\n",
      "0                               ID                     0\n",
      "1                          Keyword                     0\n",
      "2                             Rank                    16\n",
      "3                          Country                     0\n",
      "4                         Language                     0\n",
      "5                             Date                     0\n",
      "6                           App ID                     0\n",
      "7  Date of Last Description Change                     0\n",
      "8                Short Description                     0\n",
      "9                 Long Description                     0\n"
     ]
    },
    {
     "data": {
      "text/plain": [
       "True"
      ]
     },
     "execution_count": 6,
     "metadata": {},
     "output_type": "execute_result"
    }
   ],
   "source": [
    "# check missing values present\n",
    "DataPreprocessing.is_null_present(df)"
   ]
  },
  {
   "cell_type": "code",
   "execution_count": 7,
   "id": "a6903a7a",
   "metadata": {},
   "outputs": [],
   "source": [
    "# impute_missing_values using KNNImputer\n",
    "\n",
    "# from sklearn.impute import KNNImputer\n",
    "imputer = KNNImputer(n_neighbors=3, weights='uniform', missing_values=np.nan)\n",
    "df['Rank'] = imputer.fit_transform(df[['Rank']])"
   ]
  },
  {
   "cell_type": "code",
   "execution_count": 8,
   "id": "acd91f03",
   "metadata": {},
   "outputs": [
    {
     "data": {
      "text/plain": [
       "False"
      ]
     },
     "execution_count": 8,
     "metadata": {},
     "output_type": "execute_result"
    }
   ],
   "source": [
    "# Confirming missing values filled\n",
    "DataPreprocessing.is_null_present(df)"
   ]
  },
  {
   "cell_type": "code",
   "execution_count": 9,
   "id": "20af92e3",
   "metadata": {},
   "outputs": [
    {
     "name": "stdout",
     "output_type": "stream",
     "text": [
      "Unique values for categorical features --\n",
      "Keyword : 7\n",
      "Country : 1\n",
      "Language : 1\n",
      "App ID : 8\n",
      "Short Description : 9\n",
      "Long Description : 13\n"
     ]
    }
   ],
   "source": [
    "# check number of unique values present \n",
    "DataPreprocessing.cat_feature_unique_values(df)"
   ]
  },
  {
   "cell_type": "markdown",
   "id": "26618ba2",
   "metadata": {},
   "source": [
    "- It seems **$Column - Country$ & $Language$** have only one unique value i.e. constant values (std. dev. = 0)"
   ]
  },
  {
   "cell_type": "code",
   "execution_count": 10,
   "id": "84a35d56",
   "metadata": {},
   "outputs": [
    {
     "data": {
      "text/html": [
       "<div>\n",
       "<style scoped>\n",
       "    .dataframe tbody tr th:only-of-type {\n",
       "        vertical-align: middle;\n",
       "    }\n",
       "\n",
       "    .dataframe tbody tr th {\n",
       "        vertical-align: top;\n",
       "    }\n",
       "\n",
       "    .dataframe thead th {\n",
       "        text-align: right;\n",
       "    }\n",
       "</style>\n",
       "<table border=\"1\" class=\"dataframe\">\n",
       "  <thead>\n",
       "    <tr style=\"text-align: right;\">\n",
       "      <th></th>\n",
       "      <th>ID</th>\n",
       "      <th>Keyword</th>\n",
       "      <th>Rank</th>\n",
       "      <th>Country</th>\n",
       "      <th>Language</th>\n",
       "      <th>Date</th>\n",
       "      <th>App ID</th>\n",
       "      <th>Date of Last Description Change</th>\n",
       "      <th>Short Description</th>\n",
       "      <th>Long Description</th>\n",
       "    </tr>\n",
       "  </thead>\n",
       "  <tbody>\n",
       "    <tr>\n",
       "      <th>0</th>\n",
       "      <td>1</td>\n",
       "      <td>3</td>\n",
       "      <td>2.0</td>\n",
       "      <td>0</td>\n",
       "      <td>0</td>\n",
       "      <td>2020-12-16</td>\n",
       "      <td>7</td>\n",
       "      <td>2020-12-18</td>\n",
       "      <td>8</td>\n",
       "      <td>2</td>\n",
       "    </tr>\n",
       "    <tr>\n",
       "      <th>1</th>\n",
       "      <td>2</td>\n",
       "      <td>3</td>\n",
       "      <td>3.0</td>\n",
       "      <td>0</td>\n",
       "      <td>0</td>\n",
       "      <td>2020-12-16</td>\n",
       "      <td>0</td>\n",
       "      <td>2020-12-18</td>\n",
       "      <td>3</td>\n",
       "      <td>1</td>\n",
       "    </tr>\n",
       "    <tr>\n",
       "      <th>2</th>\n",
       "      <td>3</td>\n",
       "      <td>3</td>\n",
       "      <td>4.0</td>\n",
       "      <td>0</td>\n",
       "      <td>0</td>\n",
       "      <td>2020-12-16</td>\n",
       "      <td>4</td>\n",
       "      <td>2021-02-27</td>\n",
       "      <td>2</td>\n",
       "      <td>0</td>\n",
       "    </tr>\n",
       "    <tr>\n",
       "      <th>3</th>\n",
       "      <td>3</td>\n",
       "      <td>3</td>\n",
       "      <td>4.0</td>\n",
       "      <td>0</td>\n",
       "      <td>0</td>\n",
       "      <td>2020-12-16</td>\n",
       "      <td>4</td>\n",
       "      <td>2020-12-18</td>\n",
       "      <td>2</td>\n",
       "      <td>3</td>\n",
       "    </tr>\n",
       "    <tr>\n",
       "      <th>4</th>\n",
       "      <td>4</td>\n",
       "      <td>3</td>\n",
       "      <td>1.0</td>\n",
       "      <td>0</td>\n",
       "      <td>0</td>\n",
       "      <td>2020-12-16</td>\n",
       "      <td>2</td>\n",
       "      <td>2021-02-07</td>\n",
       "      <td>6</td>\n",
       "      <td>9</td>\n",
       "    </tr>\n",
       "  </tbody>\n",
       "</table>\n",
       "</div>"
      ],
      "text/plain": [
       "   ID  Keyword  Rank  Country  Language       Date  App ID  \\\n",
       "0   1        3   2.0        0         0 2020-12-16       7   \n",
       "1   2        3   3.0        0         0 2020-12-16       0   \n",
       "2   3        3   4.0        0         0 2020-12-16       4   \n",
       "3   3        3   4.0        0         0 2020-12-16       4   \n",
       "4   4        3   1.0        0         0 2020-12-16       2   \n",
       "\n",
       "  Date of Last Description Change  Short Description  Long Description  \n",
       "0                      2020-12-18                  8                 2  \n",
       "1                      2020-12-18                  3                 1  \n",
       "2                      2021-02-27                  2                 0  \n",
       "3                      2020-12-18                  2                 3  \n",
       "4                      2021-02-07                  6                 9  "
      ]
     },
     "execution_count": 10,
     "metadata": {},
     "output_type": "execute_result"
    }
   ],
   "source": [
    "# Converting categorical to numeric\n",
    "df = DataPreprocessing.label_encoder(df)\n",
    "df.head()"
   ]
  },
  {
   "cell_type": "code",
   "execution_count": 11,
   "id": "33dd1137",
   "metadata": {},
   "outputs": [
    {
     "data": {
      "text/html": [
       "<div>\n",
       "<style scoped>\n",
       "    .dataframe tbody tr th:only-of-type {\n",
       "        vertical-align: middle;\n",
       "    }\n",
       "\n",
       "    .dataframe tbody tr th {\n",
       "        vertical-align: top;\n",
       "    }\n",
       "\n",
       "    .dataframe thead th {\n",
       "        text-align: right;\n",
       "    }\n",
       "</style>\n",
       "<table border=\"1\" class=\"dataframe\">\n",
       "  <thead>\n",
       "    <tr style=\"text-align: right;\">\n",
       "      <th></th>\n",
       "      <th>ID</th>\n",
       "      <th>Keyword</th>\n",
       "      <th>Rank</th>\n",
       "      <th>Country</th>\n",
       "      <th>Language</th>\n",
       "      <th>App ID</th>\n",
       "      <th>Short Description</th>\n",
       "      <th>Long Description</th>\n",
       "    </tr>\n",
       "  </thead>\n",
       "  <tbody>\n",
       "    <tr>\n",
       "      <th>count</th>\n",
       "      <td>3066.000000</td>\n",
       "      <td>3066.000000</td>\n",
       "      <td>3066.000000</td>\n",
       "      <td>3066.0</td>\n",
       "      <td>3066.0</td>\n",
       "      <td>3066.000000</td>\n",
       "      <td>3066.00000</td>\n",
       "      <td>3066.000000</td>\n",
       "    </tr>\n",
       "    <tr>\n",
       "      <th>mean</th>\n",
       "      <td>57109.156230</td>\n",
       "      <td>2.844749</td>\n",
       "      <td>15.155738</td>\n",
       "      <td>0.0</td>\n",
       "      <td>0.0</td>\n",
       "      <td>3.312459</td>\n",
       "      <td>3.23940</td>\n",
       "      <td>6.853229</td>\n",
       "    </tr>\n",
       "    <tr>\n",
       "      <th>std</th>\n",
       "      <td>39290.651658</td>\n",
       "      <td>1.914834</td>\n",
       "      <td>24.204977</td>\n",
       "      <td>0.0</td>\n",
       "      <td>0.0</td>\n",
       "      <td>1.868662</td>\n",
       "      <td>2.64965</td>\n",
       "      <td>3.758968</td>\n",
       "    </tr>\n",
       "    <tr>\n",
       "      <th>min</th>\n",
       "      <td>1.000000</td>\n",
       "      <td>0.000000</td>\n",
       "      <td>1.000000</td>\n",
       "      <td>0.0</td>\n",
       "      <td>0.0</td>\n",
       "      <td>0.000000</td>\n",
       "      <td>0.00000</td>\n",
       "      <td>0.000000</td>\n",
       "    </tr>\n",
       "    <tr>\n",
       "      <th>25%</th>\n",
       "      <td>22484.000000</td>\n",
       "      <td>1.000000</td>\n",
       "      <td>2.000000</td>\n",
       "      <td>0.0</td>\n",
       "      <td>0.0</td>\n",
       "      <td>2.000000</td>\n",
       "      <td>1.00000</td>\n",
       "      <td>4.000000</td>\n",
       "    </tr>\n",
       "    <tr>\n",
       "      <th>50%</th>\n",
       "      <td>52427.000000</td>\n",
       "      <td>3.000000</td>\n",
       "      <td>5.000000</td>\n",
       "      <td>0.0</td>\n",
       "      <td>0.0</td>\n",
       "      <td>3.000000</td>\n",
       "      <td>3.00000</td>\n",
       "      <td>7.000000</td>\n",
       "    </tr>\n",
       "    <tr>\n",
       "      <th>75%</th>\n",
       "      <td>90683.750000</td>\n",
       "      <td>4.000000</td>\n",
       "      <td>15.155738</td>\n",
       "      <td>0.0</td>\n",
       "      <td>0.0</td>\n",
       "      <td>5.000000</td>\n",
       "      <td>5.00000</td>\n",
       "      <td>10.000000</td>\n",
       "    </tr>\n",
       "    <tr>\n",
       "      <th>max</th>\n",
       "      <td>131576.000000</td>\n",
       "      <td>6.000000</td>\n",
       "      <td>134.000000</td>\n",
       "      <td>0.0</td>\n",
       "      <td>0.0</td>\n",
       "      <td>7.000000</td>\n",
       "      <td>8.00000</td>\n",
       "      <td>12.000000</td>\n",
       "    </tr>\n",
       "  </tbody>\n",
       "</table>\n",
       "</div>"
      ],
      "text/plain": [
       "                  ID      Keyword         Rank  Country  Language  \\\n",
       "count    3066.000000  3066.000000  3066.000000   3066.0    3066.0   \n",
       "mean    57109.156230     2.844749    15.155738      0.0       0.0   \n",
       "std     39290.651658     1.914834    24.204977      0.0       0.0   \n",
       "min         1.000000     0.000000     1.000000      0.0       0.0   \n",
       "25%     22484.000000     1.000000     2.000000      0.0       0.0   \n",
       "50%     52427.000000     3.000000     5.000000      0.0       0.0   \n",
       "75%     90683.750000     4.000000    15.155738      0.0       0.0   \n",
       "max    131576.000000     6.000000   134.000000      0.0       0.0   \n",
       "\n",
       "            App ID  Short Description  Long Description  \n",
       "count  3066.000000         3066.00000       3066.000000  \n",
       "mean      3.312459            3.23940          6.853229  \n",
       "std       1.868662            2.64965          3.758968  \n",
       "min       0.000000            0.00000          0.000000  \n",
       "25%       2.000000            1.00000          4.000000  \n",
       "50%       3.000000            3.00000          7.000000  \n",
       "75%       5.000000            5.00000         10.000000  \n",
       "max       7.000000            8.00000         12.000000  "
      ]
     },
     "execution_count": 11,
     "metadata": {},
     "output_type": "execute_result"
    }
   ],
   "source": [
    "df.describe()"
   ]
  },
  {
   "cell_type": "code",
   "execution_count": 12,
   "id": "b64ec40e",
   "metadata": {},
   "outputs": [
    {
     "data": {
      "text/html": [
       "<div>\n",
       "<style scoped>\n",
       "    .dataframe tbody tr th:only-of-type {\n",
       "        vertical-align: middle;\n",
       "    }\n",
       "\n",
       "    .dataframe tbody tr th {\n",
       "        vertical-align: top;\n",
       "    }\n",
       "\n",
       "    .dataframe thead th {\n",
       "        text-align: right;\n",
       "    }\n",
       "</style>\n",
       "<table border=\"1\" class=\"dataframe\">\n",
       "  <thead>\n",
       "    <tr style=\"text-align: right;\">\n",
       "      <th></th>\n",
       "      <th>ID</th>\n",
       "      <th>Keyword</th>\n",
       "      <th>Rank</th>\n",
       "      <th>Date</th>\n",
       "      <th>App ID</th>\n",
       "      <th>Date of Last Description Change</th>\n",
       "      <th>Short Description</th>\n",
       "      <th>Long Description</th>\n",
       "    </tr>\n",
       "  </thead>\n",
       "  <tbody>\n",
       "    <tr>\n",
       "      <th>0</th>\n",
       "      <td>1</td>\n",
       "      <td>3</td>\n",
       "      <td>2.0</td>\n",
       "      <td>2020-12-16</td>\n",
       "      <td>7</td>\n",
       "      <td>2020-12-18</td>\n",
       "      <td>8</td>\n",
       "      <td>2</td>\n",
       "    </tr>\n",
       "    <tr>\n",
       "      <th>1</th>\n",
       "      <td>2</td>\n",
       "      <td>3</td>\n",
       "      <td>3.0</td>\n",
       "      <td>2020-12-16</td>\n",
       "      <td>0</td>\n",
       "      <td>2020-12-18</td>\n",
       "      <td>3</td>\n",
       "      <td>1</td>\n",
       "    </tr>\n",
       "    <tr>\n",
       "      <th>2</th>\n",
       "      <td>3</td>\n",
       "      <td>3</td>\n",
       "      <td>4.0</td>\n",
       "      <td>2020-12-16</td>\n",
       "      <td>4</td>\n",
       "      <td>2021-02-27</td>\n",
       "      <td>2</td>\n",
       "      <td>0</td>\n",
       "    </tr>\n",
       "    <tr>\n",
       "      <th>3</th>\n",
       "      <td>3</td>\n",
       "      <td>3</td>\n",
       "      <td>4.0</td>\n",
       "      <td>2020-12-16</td>\n",
       "      <td>4</td>\n",
       "      <td>2020-12-18</td>\n",
       "      <td>2</td>\n",
       "      <td>3</td>\n",
       "    </tr>\n",
       "    <tr>\n",
       "      <th>4</th>\n",
       "      <td>4</td>\n",
       "      <td>3</td>\n",
       "      <td>1.0</td>\n",
       "      <td>2020-12-16</td>\n",
       "      <td>2</td>\n",
       "      <td>2021-02-07</td>\n",
       "      <td>6</td>\n",
       "      <td>9</td>\n",
       "    </tr>\n",
       "  </tbody>\n",
       "</table>\n",
       "</div>"
      ],
      "text/plain": [
       "   ID  Keyword  Rank       Date  App ID Date of Last Description Change  \\\n",
       "0   1        3   2.0 2020-12-16       7                      2020-12-18   \n",
       "1   2        3   3.0 2020-12-16       0                      2020-12-18   \n",
       "2   3        3   4.0 2020-12-16       4                      2021-02-27   \n",
       "3   3        3   4.0 2020-12-16       4                      2020-12-18   \n",
       "4   4        3   1.0 2020-12-16       2                      2021-02-07   \n",
       "\n",
       "   Short Description  Long Description  \n",
       "0                  8                 2  \n",
       "1                  3                 1  \n",
       "2                  2                 0  \n",
       "3                  2                 3  \n",
       "4                  6                 9  "
      ]
     },
     "execution_count": 12,
     "metadata": {},
     "output_type": "execute_result"
    }
   ],
   "source": [
    "# drop columns with zero std. dev. i.e. Country & Language\n",
    "df = df.drop(columns=['Country', 'Language'], axis=1)\n",
    "df.head()"
   ]
  },
  {
   "cell_type": "markdown",
   "id": "a8ee9560",
   "metadata": {},
   "source": [
    "### Now data is clean  for further use."
   ]
  },
  {
   "cell_type": "markdown",
   "id": "cbb4bd23",
   "metadata": {},
   "source": [
    "# $Understanding$ $Correlation :$"
   ]
  },
  {
   "cell_type": "code",
   "execution_count": 13,
   "id": "e1478075",
   "metadata": {},
   "outputs": [],
   "source": [
    "# Correlation used in feature selection\n",
    "\n",
    "# Pearson Correlation -- shows strength & direction of relationship; range : -1 to +1\n",
    "# Pearson’s correlation is just the covariance divided by the product of the standard deviations.\n",
    "\n",
    "# Spearman's rank correlation coefficient -- works well with non linear data & outliers as well.\n",
    "# Spearman’s rho is just the Pearson correlation applied to the ranks."
   ]
  },
  {
   "cell_type": "markdown",
   "id": "e6d3eca1",
   "metadata": {},
   "source": [
    "### The Spearman Rank Correlation can take a value from +1 to -1 where,\n",
    "\n",
    "- A value of +1 means a perfect association of rank\n",
    "- A value of 0 means that there is no association between ranks\n",
    "- A value of -1 means a perfect negative association of rank\n",
    "\n",
    "\n",
    "- Monotonically Increasing: As the variable X increases, the variable Y never decreases.\n",
    "- Monotonically Decreasing: As the variable X increases, the variable Y never increases.\n",
    "- Not Monotonic: As the X variable increases, the Y variable sometimes decreases and sometimes increases. "
   ]
  },
  {
   "cell_type": "markdown",
   "id": "269d0bde",
   "metadata": {},
   "source": [
    "## $Checking$ $Correlation :$"
   ]
  },
  {
   "cell_type": "code",
   "execution_count": 14,
   "id": "0ad03353",
   "metadata": {},
   "outputs": [],
   "source": [
    "# from preprocessor import DisplayCorrelation\n",
    "DisplayCorrelation = DisplayCorrelation()   "
   ]
  },
  {
   "cell_type": "code",
   "execution_count": 15,
   "id": "eb89dfde",
   "metadata": {},
   "outputs": [
    {
     "data": {
      "image/png": "[encoded data removed]",
      "text/plain": [
       "<Figure size 1080x432 with 2 Axes>"
      ]
     },
     "metadata": {
      "needs_background": "light"
     },
     "output_type": "display_data"
    }
   ],
   "source": [
    "DisplayCorrelation.corr_heatmap(df)"
   ]
  },
  {
   "cell_type": "markdown",
   "id": "1a3ce2a6",
   "metadata": {},
   "source": [
    "## $Observations :$\n",
    "\n",
    "- ID do not have a significant monotonically correlation with any of the feature.\n",
    "- Keyword is most negatively correlated with Short Description, with APP ID & Long Description somewhat positively correlated.\n",
    "- Rank is most positively correlated with App ID among all the features, somewhat positively correlated with Short Description & no significant monotonically correlated with any of the other feature.\n",
    "- Short Description & Long Descriptions are the most negatively correlated with each other & among all too, Also Short Description is somewhat negatively correlated with Keyword.\n",
    "- Long Description do not have a significant monotonically correlation with ID & somewhat positively correlated with Keyword, Rank, App ID as compared to ID."
   ]
  },
  {
   "cell_type": "markdown",
   "id": "245499c0",
   "metadata": {},
   "source": [
    "## $Suggested Questions:$"
   ]
  },
  {
   "cell_type": "markdown",
   "id": "54298af2",
   "metadata": {},
   "source": [
    "### 1. Is there any co-relation between short description, long description and ranking? Does the placement of keyword (for example using a keyword in the first 10 words - have any co-relation with the ranking)?\n",
    "\n",
    "- Short Description & Long Descriptions are the most negetively correlated with each other.\n",
    "- Short Description do not have a significant monotonically correlation with Rank.\n",
    "- Rank & Keyword are weak monotoncally negatively correlated, using a keyword in the first 10 words would not have a significantly major monotonically correlation with Rank, however it will impact somewhat negatively correlated."
   ]
  },
  {
   "cell_type": "markdown",
   "id": "0a9bdae0",
   "metadata": {},
   "source": [
    "### 2. Does App ID (Also known as package name) play any role in ranking?  \n",
    "\n",
    "- Rank is most positivelty correlated with App ID among all the features, these are significantly positivey corrrelated with each other and change in one will significantly change other i.e. increment in App ID will increase Rank."
   ]
  },
  {
   "cell_type": "markdown",
   "id": "abd2f5ac",
   "metadata": {},
   "source": [
    "### 3. Any other pattern or good questions that you can think of and answer?\n",
    "\n",
    "- What are the most negatively correlated features??\n",
    "  - Short Description & Long Descriptions.\n",
    "  - These are the most negatively correlated features, this may be becuase of these are sentiment based."
   ]
  },
  {
   "cell_type": "markdown",
   "id": "a55cac1b",
   "metadata": {},
   "source": [
    "-----------------------------------------------------------------------------------------------------------------"
   ]
  }
 ],
 "metadata": {
  "kernelspec": {
   "display_name": "Python 3 (ipykernel)",
   "language": "python",
   "name": "python3"
  },
  "language_info": {
   "codemirror_mode": {
    "name": "ipython",
    "version": 3
   },
   "file_extension": ".py",
   "mimetype": "text/x-python",
   "name": "python",
   "nbconvert_exporter": "python",
   "pygments_lexer": "ipython3",
   "version": "3.9.7"
  }
 },
 "nbformat": 4,
 "nbformat_minor": 5
}
