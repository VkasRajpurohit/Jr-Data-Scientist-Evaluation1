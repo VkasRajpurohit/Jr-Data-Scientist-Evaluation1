{
 "cells": [
  {
   "cell_type": "code",
   "execution_count": 1,
   "id": "0fbf9a93",
   "metadata": {},
   "outputs": [],
   "source": [
    "# Save small data set to upload for quick test processing."
   ]
  },
  {
   "cell_type": "code",
   "execution_count": 2,
   "id": "c0e58805",
   "metadata": {},
   "outputs": [],
   "source": [
    "import pandas as pd"
   ]
  },
  {
   "cell_type": "code",
   "execution_count": 3,
   "id": "e271fc53",
   "metadata": {},
   "outputs": [
    {
     "data": {
      "text/html": [
       "<div>\n",
       "<style scoped>\n",
       "    .dataframe tbody tr th:only-of-type {\n",
       "        vertical-align: middle;\n",
       "    }\n",
       "\n",
       "    .dataframe tbody tr th {\n",
       "        vertical-align: top;\n",
       "    }\n",
       "\n",
       "    .dataframe thead th {\n",
       "        text-align: right;\n",
       "    }\n",
       "</style>\n",
       "<table border=\"1\" class=\"dataframe\">\n",
       "  <thead>\n",
       "    <tr style=\"text-align: right;\">\n",
       "      <th></th>\n",
       "      <th>ID</th>\n",
       "      <th>Review URL</th>\n",
       "      <th>Text</th>\n",
       "      <th>Star</th>\n",
       "      <th>Thumbs Up</th>\n",
       "      <th>User Name</th>\n",
       "      <th>Developer Reply</th>\n",
       "      <th>Version</th>\n",
       "      <th>Review Date</th>\n",
       "      <th>App ID</th>\n",
       "    </tr>\n",
       "  </thead>\n",
       "  <tbody>\n",
       "    <tr>\n",
       "      <th>0</th>\n",
       "      <td>3886</td>\n",
       "      <td>https://play.google.com/store/apps/details?id=...</td>\n",
       "      <td>This is very helpfull aap.</td>\n",
       "      <td>5</td>\n",
       "      <td>0</td>\n",
       "      <td>INDIAN Knowledge</td>\n",
       "      <td>NaN</td>\n",
       "      <td>83.0.4103.106</td>\n",
       "      <td>2020-12-19</td>\n",
       "      <td>com.android.chrome</td>\n",
       "    </tr>\n",
       "    <tr>\n",
       "      <th>1</th>\n",
       "      <td>3887</td>\n",
       "      <td>https://play.google.com/store/apps/details?id=...</td>\n",
       "      <td>Good</td>\n",
       "      <td>3</td>\n",
       "      <td>2</td>\n",
       "      <td>Ijeoma Happiness</td>\n",
       "      <td>NaN</td>\n",
       "      <td>85.0.4183.127</td>\n",
       "      <td>2020-12-19</td>\n",
       "      <td>com.android.chrome</td>\n",
       "    </tr>\n",
       "    <tr>\n",
       "      <th>2</th>\n",
       "      <td>3888</td>\n",
       "      <td>https://play.google.com/store/apps/details?id=...</td>\n",
       "      <td>Not able to update. Neither able to uninstall.</td>\n",
       "      <td>1</td>\n",
       "      <td>0</td>\n",
       "      <td>Priti D BtCFs-29</td>\n",
       "      <td>NaN</td>\n",
       "      <td>85.0.4183.127</td>\n",
       "      <td>2020-12-19</td>\n",
       "      <td>com.android.chrome</td>\n",
       "    </tr>\n",
       "    <tr>\n",
       "      <th>3</th>\n",
       "      <td>3889</td>\n",
       "      <td>https://play.google.com/store/apps/details?id=...</td>\n",
       "      <td>Nice app</td>\n",
       "      <td>4</td>\n",
       "      <td>0</td>\n",
       "      <td>Ajeet Raja</td>\n",
       "      <td>NaN</td>\n",
       "      <td>77.0.3865.116</td>\n",
       "      <td>2020-12-19</td>\n",
       "      <td>com.android.chrome</td>\n",
       "    </tr>\n",
       "    <tr>\n",
       "      <th>4</th>\n",
       "      <td>3890</td>\n",
       "      <td>https://play.google.com/store/apps/details?id=...</td>\n",
       "      <td>Many unwanted ads</td>\n",
       "      <td>1</td>\n",
       "      <td>0</td>\n",
       "      <td>Rams Mp</td>\n",
       "      <td>NaN</td>\n",
       "      <td>87.0.4280.66</td>\n",
       "      <td>2020-12-19</td>\n",
       "      <td>com.android.chrome</td>\n",
       "    </tr>\n",
       "  </tbody>\n",
       "</table>\n",
       "</div>"
      ],
      "text/plain": [
       "     ID                                         Review URL  \\\n",
       "0  3886  https://play.google.com/store/apps/details?id=...   \n",
       "1  3887  https://play.google.com/store/apps/details?id=...   \n",
       "2  3888  https://play.google.com/store/apps/details?id=...   \n",
       "3  3889  https://play.google.com/store/apps/details?id=...   \n",
       "4  3890  https://play.google.com/store/apps/details?id=...   \n",
       "\n",
       "                                             Text  Star  Thumbs Up  \\\n",
       "0                      This is very helpfull aap.     5          0   \n",
       "1                                            Good     3          2   \n",
       "2  Not able to update. Neither able to uninstall.     1          0   \n",
       "3                                        Nice app     4          0   \n",
       "4                               Many unwanted ads     1          0   \n",
       "\n",
       "          User Name Developer Reply        Version Review Date  \\\n",
       "0  INDIAN Knowledge             NaN  83.0.4103.106  2020-12-19   \n",
       "1  Ijeoma Happiness             NaN  85.0.4183.127  2020-12-19   \n",
       "2  Priti D BtCFs-29             NaN  85.0.4183.127  2020-12-19   \n",
       "3        Ajeet Raja             NaN  77.0.3865.116  2020-12-19   \n",
       "4           Rams Mp             NaN   87.0.4280.66  2020-12-19   \n",
       "\n",
       "               App ID  \n",
       "0  com.android.chrome  \n",
       "1  com.android.chrome  \n",
       "2  com.android.chrome  \n",
       "3  com.android.chrome  \n",
       "4  com.android.chrome  "
      ]
     },
     "execution_count": 3,
     "metadata": {},
     "output_type": "execute_result"
    }
   ],
   "source": [
    "df = pd.read_csv('data/chrome_reviews.csv')\n",
    "df.head()"
   ]
  },
  {
   "cell_type": "code",
   "execution_count": 4,
   "id": "d2eb9bae",
   "metadata": {},
   "outputs": [
    {
     "data": {
      "text/plain": [
       "(7204, 10)"
      ]
     },
     "execution_count": 4,
     "metadata": {},
     "output_type": "execute_result"
    }
   ],
   "source": [
    "df.shape"
   ]
  },
  {
   "cell_type": "code",
   "execution_count": 5,
   "id": "25e6e063",
   "metadata": {},
   "outputs": [],
   "source": [
    "df = df.iloc[:1000]\n",
    "data = df.to_csv('data/upload_file.csv')"
   ]
  },
  {
   "cell_type": "code",
   "execution_count": 6,
   "id": "091a9ac3",
   "metadata": {},
   "outputs": [
    {
     "data": {
      "text/plain": [
       "(1000, 11)"
      ]
     },
     "execution_count": 6,
     "metadata": {},
     "output_type": "execute_result"
    }
   ],
   "source": [
    "small_csv = pd.read_csv('data/upload_file.csv')\n",
    "small_csv.shape"
   ]
  },
  {
   "cell_type": "code",
   "execution_count": 7,
   "id": "8f137cfe",
   "metadata": {},
   "outputs": [],
   "source": [
    "df = df.iloc[:100]\n",
    "data = df.to_csv('data/upload_file_100.csv')"
   ]
  },
  {
   "cell_type": "code",
   "execution_count": 8,
   "id": "04033f29",
   "metadata": {},
   "outputs": [],
   "source": [
    "df = df.iloc[:100]\n",
    "data = df.to_csv('data/upload_file_50.csv')"
   ]
  },
  {
   "cell_type": "code",
   "execution_count": null,
   "id": "8e180b8e",
   "metadata": {},
   "outputs": [],
   "source": []
  }
 ],
 "metadata": {
  "kernelspec": {
   "display_name": "Python 3 (ipykernel)",
   "language": "python",
   "name": "python3"
  },
  "language_info": {
   "codemirror_mode": {
    "name": "ipython",
    "version": 3
   },
   "file_extension": ".py",
   "mimetype": "text/x-python",
   "name": "python",
   "nbconvert_exporter": "python",
   "pygments_lexer": "ipython3",
   "version": "3.9.7"
  }
 },
 "nbformat": 4,
 "nbformat_minor": 5
}
