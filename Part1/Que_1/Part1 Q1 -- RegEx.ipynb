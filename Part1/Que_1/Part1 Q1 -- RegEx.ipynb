{
 "cells": [
  {
   "cell_type": "markdown",
   "id": "efdcbb2e",
   "metadata": {},
   "source": [
    "# $Part1 -- Que1 $. \n",
    "\n",
    "### Write a regex to extract all the numbers with orange color background from the below text in italics.\n",
    "\n"
   ]
  },
  {
   "cell_type": "code",
   "execution_count": 1,
   "id": "46e77fab",
   "metadata": {},
   "outputs": [],
   "source": [
    "data = {\"orders\":[{\"id\":1},{\"id\":2},{\"id\":3},{\"id\":4},{\"id\":5},{\"id\":6},{\"id\":7},{\"id\":8},{\"id\":9},{\"id\":10},{\"id\":11},{\"id\":648},{\"id\":649},{\"id\":650},{\"id\":651},{\"id\":652},{\"id\":653}],\"errors\":[{\"code\":3,\"message\":\"[PHP Warning #2] count(): Parameter must be an array or an object that implements Countable (153)\"}]}"
   ]
  },
  {
   "cell_type": "code",
   "execution_count": 2,
   "id": "32b7e91a",
   "metadata": {},
   "outputs": [],
   "source": [
    "import re\n",
    "\n",
    "class RegEx:\n",
    "    \"\"\"This class will extract all the numbers with orange color background from the given text data.\n",
    "       Written by : Vikram Singh\n",
    "       Date: 04/28/2022\"\"\"\n",
    "    \n",
    "    def __init__(self, data):\n",
    "        self.data = data\n",
    "        \n",
    "    def extract_number(self):\n",
    "        \"\"\"Method Name: extract_number\n",
    "           Description: It will return all the extracted numbers.\"\"\"\n",
    "        try:\n",
    "            result = re.findall(r'\\s[0-9]+', str(data))\n",
    "            # \\s | Matches whitespace characters, which include the \\t, \\n, \\r, and space characters.\n",
    "            # [0-9] | Matches from 0 to 9.\n",
    "            # + | Greedily matches the expression to its left 1 or more times.\n",
    "            return result\n",
    "        except Exception as e:\n",
    "            print('Error: ', e)"
   ]
  },
  {
   "cell_type": "code",
   "execution_count": 3,
   "id": "d62486d6",
   "metadata": {},
   "outputs": [],
   "source": [
    "extract = RegEx(data).extract_number()"
   ]
  },
  {
   "cell_type": "code",
   "execution_count": 4,
   "id": "baccfeea",
   "metadata": {},
   "outputs": [
    {
     "name": "stdout",
     "output_type": "stream",
     "text": [
      "[' 1', ' 2', ' 3', ' 4', ' 5', ' 6', ' 7', ' 8', ' 9', ' 10', ' 11', ' 648', ' 649', ' 650', ' 651', ' 652', ' 653', ' 3']\n"
     ]
    }
   ],
   "source": [
    "print(extract)"
   ]
  },
  {
   "cell_type": "code",
   "execution_count": null,
   "id": "1539310a",
   "metadata": {},
   "outputs": [],
   "source": []
  }
 ],
 "metadata": {
  "kernelspec": {
   "display_name": "Python 3 (ipykernel)",
   "language": "python",
   "name": "python3"
  },
  "language_info": {
   "codemirror_mode": {
    "name": "ipython",
    "version": 3
   },
   "file_extension": ".py",
   "mimetype": "text/x-python",
   "name": "python",
   "nbconvert_exporter": "python",
   "pygments_lexer": "ipython3",
   "version": "3.9.7"
  }
 },
 "nbformat": 4,
 "nbformat_minor": 5
}
