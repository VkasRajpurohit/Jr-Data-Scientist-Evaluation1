{
 "cells": [
  {
   "cell_type": "markdown",
   "id": "3f5aec3e",
   "metadata": {},
   "source": [
    "# $Part2 -- Que1$."
   ]
  },
  {
   "cell_type": "markdown",
   "id": "1d33a5c7",
   "metadata": {},
   "source": [
    "## Check if the sentence is Grammatically correct: \n",
    "\n",
    "- Please use any pre-trained model or use text from open datasets. \n",
    "- Once done, please evaluate the English Grammar in the text column of the below dataset.\n",
    "- [DataSet Link](https://drive.google.com/file/d/1LTI5KNqPrtxrYRgJk2AxI30KgYyNcRpD/view)"
   ]
  },
  {
   "cell_type": "markdown",
   "id": "6ea2ce05",
   "metadata": {},
   "source": [
    "## $Import Required Libraries :$"
   ]
  },
  {
   "cell_type": "markdown",
   "id": "f6333f68",
   "metadata": {},
   "source": [
    "\n",
    "```python\n",
    "# install language-tool-python\n",
    "pip install language-tool-python\n",
    "\n",
    "```\n",
    "\n",
    "For more info click - [language-tool-python](https://pypi.org/project/language-tool-python/)."
   ]
  },
  {
   "cell_type": "code",
   "execution_count": 1,
   "id": "971af3c3",
   "metadata": {},
   "outputs": [],
   "source": [
    "import numpy as np\n",
    "import pandas as pd\n",
    "\n",
    "import language_tool_python\n",
    "tool = language_tool_python.LanguageTool('en-US')  # language English-US"
   ]
  },
  {
   "cell_type": "markdown",
   "id": "f025410f",
   "metadata": {},
   "source": [
    "## $Load Data :$"
   ]
  },
  {
   "cell_type": "code",
   "execution_count": 2,
   "id": "238cabaf",
   "metadata": {
    "scrolled": true
   },
   "outputs": [
    {
     "data": {
      "text/html": [
       "<div>\n",
       "<style scoped>\n",
       "    .dataframe tbody tr th:only-of-type {\n",
       "        vertical-align: middle;\n",
       "    }\n",
       "\n",
       "    .dataframe tbody tr th {\n",
       "        vertical-align: top;\n",
       "    }\n",
       "\n",
       "    .dataframe thead th {\n",
       "        text-align: right;\n",
       "    }\n",
       "</style>\n",
       "<table border=\"1\" class=\"dataframe\">\n",
       "  <thead>\n",
       "    <tr style=\"text-align: right;\">\n",
       "      <th></th>\n",
       "      <th>text</th>\n",
       "      <th>star</th>\n",
       "      <th>app_id</th>\n",
       "      <th>reviewDate</th>\n",
       "    </tr>\n",
       "  </thead>\n",
       "  <tbody>\n",
       "    <tr>\n",
       "      <th>0</th>\n",
       "      <td>Anathi Khanyile</td>\n",
       "      <td>5</td>\n",
       "      <td>com.fingersoft.hillclimb</td>\n",
       "      <td>18/03/21</td>\n",
       "    </tr>\n",
       "    <tr>\n",
       "      <th>1</th>\n",
       "      <td>Tony bahut funny hai Hill climbing racing my f...</td>\n",
       "      <td>5</td>\n",
       "      <td>com.fingersoft.hillclimb</td>\n",
       "      <td>18/03/21</td>\n",
       "    </tr>\n",
       "  </tbody>\n",
       "</table>\n",
       "</div>"
      ],
      "text/plain": [
       "                                                text  star  \\\n",
       "0                                    Anathi Khanyile     5   \n",
       "1  Tony bahut funny hai Hill climbing racing my f...     5   \n",
       "\n",
       "                     app_id reviewDate  \n",
       "0  com.fingersoft.hillclimb   18/03/21  \n",
       "1  com.fingersoft.hillclimb   18/03/21  "
      ]
     },
     "execution_count": 2,
     "metadata": {},
     "output_type": "execute_result"
    }
   ],
   "source": [
    "data = pd.read_csv('data/review_data.csv', nrows=500)\n",
    "data.head(2)"
   ]
  },
  {
   "cell_type": "markdown",
   "id": "fa4a0d4e",
   "metadata": {},
   "source": [
    "## $text$ $column$"
   ]
  },
  {
   "cell_type": "code",
   "execution_count": 3,
   "id": "adea7624",
   "metadata": {},
   "outputs": [
    {
     "data": {
      "text/plain": [
       "text    0\n",
       "dtype: int64"
      ]
     },
     "execution_count": 3,
     "metadata": {},
     "output_type": "execute_result"
    }
   ],
   "source": [
    "df = data[['text']]\n",
    "\n",
    "# check missing values\n",
    "df.isnull().sum()"
   ]
  },
  {
   "cell_type": "markdown",
   "id": "5a2a161b",
   "metadata": {},
   "source": [
    "## $Check - Grammatical$ $Correct$ $or$ $not :$"
   ]
  },
  {
   "cell_type": "code",
   "execution_count": 5,
   "id": "f81860fc",
   "metadata": {},
   "outputs": [],
   "source": [
    "# tool.check() : to generate the list of error rules matches\n",
    "\n",
    "try:\n",
    "    df = df.assign(Grammatical_Status = ['Incorrect' if len(tool.check(rows))>0 else 'Correct' for rows in df.text])\n",
    "except Exception as e:\n",
    "    print('Error: ', e)"
   ]
  },
  {
   "cell_type": "code",
   "execution_count": 6,
   "id": "43b96b7f",
   "metadata": {},
   "outputs": [
    {
     "data": {
      "text/html": [
       "<div>\n",
       "<style scoped>\n",
       "    .dataframe tbody tr th:only-of-type {\n",
       "        vertical-align: middle;\n",
       "    }\n",
       "\n",
       "    .dataframe tbody tr th {\n",
       "        vertical-align: top;\n",
       "    }\n",
       "\n",
       "    .dataframe thead th {\n",
       "        text-align: right;\n",
       "    }\n",
       "</style>\n",
       "<table border=\"1\" class=\"dataframe\">\n",
       "  <thead>\n",
       "    <tr style=\"text-align: right;\">\n",
       "      <th></th>\n",
       "      <th>text</th>\n",
       "      <th>Grammatical_Status</th>\n",
       "    </tr>\n",
       "  </thead>\n",
       "  <tbody>\n",
       "    <tr>\n",
       "      <th>0</th>\n",
       "      <td>Anathi Khanyile</td>\n",
       "      <td>Incorrect</td>\n",
       "    </tr>\n",
       "    <tr>\n",
       "      <th>1</th>\n",
       "      <td>Tony bahut funny hai Hill climbing racing my f...</td>\n",
       "      <td>Incorrect</td>\n",
       "    </tr>\n",
       "    <tr>\n",
       "      <th>2</th>\n",
       "      <td>Teturwu</td>\n",
       "      <td>Incorrect</td>\n",
       "    </tr>\n",
       "    <tr>\n",
       "      <th>3</th>\n",
       "      <td>Hoooooooooooyaaaaaaaaa what a game hoooooooooo...</td>\n",
       "      <td>Incorrect</td>\n",
       "    </tr>\n",
       "    <tr>\n",
       "      <th>4</th>\n",
       "      <td>This game is nice</td>\n",
       "      <td>Correct</td>\n",
       "    </tr>\n",
       "  </tbody>\n",
       "</table>\n",
       "</div>"
      ],
      "text/plain": [
       "                                                text Grammatical_Status\n",
       "0                                    Anathi Khanyile          Incorrect\n",
       "1  Tony bahut funny hai Hill climbing racing my f...          Incorrect\n",
       "2                                            Teturwu          Incorrect\n",
       "3  Hoooooooooooyaaaaaaaaa what a game hoooooooooo...          Incorrect\n",
       "4                                  This game is nice            Correct"
      ]
     },
     "execution_count": 6,
     "metadata": {},
     "output_type": "execute_result"
    }
   ],
   "source": [
    "df.head()"
   ]
  },
  {
   "cell_type": "markdown",
   "id": "e4591f87",
   "metadata": {},
   "source": [
    "## $Fix -$ $Grammatical$ $incorrect :$"
   ]
  },
  {
   "cell_type": "code",
   "execution_count": 7,
   "id": "ce966210",
   "metadata": {},
   "outputs": [],
   "source": [
    "# tool.correct() : to correct the error rules matches\n",
    "\n",
    "try:\n",
    "    df = df.assign(Corrected = [tool.correct(rows) for rows in df.text])\n",
    "except Exception as e:\n",
    "    print('Error: ', e)"
   ]
  },
  {
   "cell_type": "code",
   "execution_count": 8,
   "id": "b0c19230",
   "metadata": {},
   "outputs": [
    {
     "data": {
      "text/html": [
       "<div>\n",
       "<style scoped>\n",
       "    .dataframe tbody tr th:only-of-type {\n",
       "        vertical-align: middle;\n",
       "    }\n",
       "\n",
       "    .dataframe tbody tr th {\n",
       "        vertical-align: top;\n",
       "    }\n",
       "\n",
       "    .dataframe thead th {\n",
       "        text-align: right;\n",
       "    }\n",
       "</style>\n",
       "<table border=\"1\" class=\"dataframe\">\n",
       "  <thead>\n",
       "    <tr style=\"text-align: right;\">\n",
       "      <th></th>\n",
       "      <th>text</th>\n",
       "      <th>Grammatical_Status</th>\n",
       "      <th>Corrected</th>\n",
       "    </tr>\n",
       "  </thead>\n",
       "  <tbody>\n",
       "    <tr>\n",
       "      <th>0</th>\n",
       "      <td>Anathi Khanyile</td>\n",
       "      <td>Incorrect</td>\n",
       "      <td>Anti Handle</td>\n",
       "    </tr>\n",
       "    <tr>\n",
       "      <th>1</th>\n",
       "      <td>Tony bahut funny hai Hill climbing racing my f...</td>\n",
       "      <td>Incorrect</td>\n",
       "      <td>Tony Beirut funny HAI Hill climbing racing my ...</td>\n",
       "    </tr>\n",
       "    <tr>\n",
       "      <th>2</th>\n",
       "      <td>Teturwu</td>\n",
       "      <td>Incorrect</td>\n",
       "      <td>Return</td>\n",
       "    </tr>\n",
       "    <tr>\n",
       "      <th>3</th>\n",
       "      <td>Hoooooooooooyaaaaaaaaa what a game hoooooooooo...</td>\n",
       "      <td>Incorrect</td>\n",
       "      <td>Hoooooooooooyaaaaaaaaa what a game hoooooooooo...</td>\n",
       "    </tr>\n",
       "    <tr>\n",
       "      <th>4</th>\n",
       "      <td>This game is nice</td>\n",
       "      <td>Correct</td>\n",
       "      <td>This game is nice</td>\n",
       "    </tr>\n",
       "  </tbody>\n",
       "</table>\n",
       "</div>"
      ],
      "text/plain": [
       "                                                text Grammatical_Status  \\\n",
       "0                                    Anathi Khanyile          Incorrect   \n",
       "1  Tony bahut funny hai Hill climbing racing my f...          Incorrect   \n",
       "2                                            Teturwu          Incorrect   \n",
       "3  Hoooooooooooyaaaaaaaaa what a game hoooooooooo...          Incorrect   \n",
       "4                                  This game is nice            Correct   \n",
       "\n",
       "                                           Corrected  \n",
       "0                                        Anti Handle  \n",
       "1  Tony Beirut funny HAI Hill climbing racing my ...  \n",
       "2                                             Return  \n",
       "3  Hoooooooooooyaaaaaaaaa what a game hoooooooooo...  \n",
       "4                                  This game is nice  "
      ]
     },
     "execution_count": 8,
     "metadata": {},
     "output_type": "execute_result"
    }
   ],
   "source": [
    "df.head()"
   ]
  },
  {
   "cell_type": "code",
   "execution_count": 9,
   "id": "a15227ff",
   "metadata": {},
   "outputs": [],
   "source": [
    "tool.close()"
   ]
  }
 ],
 "metadata": {
  "kernelspec": {
   "display_name": "Python 3 (ipykernel)",
   "language": "python",
   "name": "python3"
  },
  "language_info": {
   "codemirror_mode": {
    "name": "ipython",
    "version": 3
   },
   "file_extension": ".py",
   "mimetype": "text/x-python",
   "name": "python",
   "nbconvert_exporter": "python",
   "pygments_lexer": "ipython3",
   "version": "3.9.7"
  }
 },
 "nbformat": 4,
 "nbformat_minor": 5
}
